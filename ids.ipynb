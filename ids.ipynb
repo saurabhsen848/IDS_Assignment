{
 "cells": [
  {
   "cell_type": "code",
   "execution_count": 3,
   "id": "d30ba589-06ae-49a2-b35d-fd3123434597",
   "metadata": {},
   "outputs": [],
   "source": [
    "import pandas as pd\n",
    "import matplotlib as plt"
   ]
  },
  {
   "cell_type": "code",
   "execution_count": 27,
   "id": "5b8fdf04-eeb4-484a-8bd4-fd4933903a71",
   "metadata": {},
   "outputs": [
    {
     "data": {
      "text/html": [
       "<div>\n",
       "<style scoped>\n",
       "    .dataframe tbody tr th:only-of-type {\n",
       "        vertical-align: middle;\n",
       "    }\n",
       "\n",
       "    .dataframe tbody tr th {\n",
       "        vertical-align: top;\n",
       "    }\n",
       "\n",
       "    .dataframe thead th {\n",
       "        text-align: right;\n",
       "    }\n",
       "</style>\n",
       "<table border=\"1\" class=\"dataframe\">\n",
       "  <thead>\n",
       "    <tr style=\"text-align: right;\">\n",
       "      <th></th>\n",
       "      <th>orderID</th>\n",
       "      <th>CustomerID</th>\n",
       "      <th>Product</th>\n",
       "      <th>Price</th>\n",
       "      <th>QuantitPricey</th>\n",
       "      <th>OrderDate</th>\n",
       "    </tr>\n",
       "  </thead>\n",
       "  <tbody>\n",
       "    <tr>\n",
       "      <th>0</th>\n",
       "      <td>110</td>\n",
       "      <td>1</td>\n",
       "      <td>laptop</td>\n",
       "      <td>800</td>\n",
       "      <td>1</td>\n",
       "      <td>2024-01-10</td>\n",
       "    </tr>\n",
       "    <tr>\n",
       "      <th>1</th>\n",
       "      <td>102</td>\n",
       "      <td>2</td>\n",
       "      <td>phone</td>\n",
       "      <td>500</td>\n",
       "      <td>2</td>\n",
       "      <td>2024-01-15</td>\n",
       "    </tr>\n",
       "    <tr>\n",
       "      <th>2</th>\n",
       "      <td>103</td>\n",
       "      <td>3</td>\n",
       "      <td>tablet</td>\n",
       "      <td>300</td>\n",
       "      <td>1</td>\n",
       "      <td>2024-01-20</td>\n",
       "    </tr>\n",
       "    <tr>\n",
       "      <th>3</th>\n",
       "      <td>104</td>\n",
       "      <td>4</td>\n",
       "      <td>headphone</td>\n",
       "      <td>100</td>\n",
       "      <td>3</td>\n",
       "      <td>2024-01-22</td>\n",
       "    </tr>\n",
       "    <tr>\n",
       "      <th>4</th>\n",
       "      <td>105</td>\n",
       "      <td>2</td>\n",
       "      <td>laptop</td>\n",
       "      <td>750</td>\n",
       "      <td>1</td>\n",
       "      <td>2024-01-25</td>\n",
       "    </tr>\n",
       "    <tr>\n",
       "      <th>5</th>\n",
       "      <td>106</td>\n",
       "      <td>1</td>\n",
       "      <td>phone</td>\n",
       "      <td>550</td>\n",
       "      <td>1</td>\n",
       "      <td>2024-01-30</td>\n",
       "    </tr>\n",
       "    <tr>\n",
       "      <th>6</th>\n",
       "      <td>107</td>\n",
       "      <td>5</td>\n",
       "      <td>taplet</td>\n",
       "      <td>280</td>\n",
       "      <td>2</td>\n",
       "      <td>2024-02-01</td>\n",
       "    </tr>\n",
       "  </tbody>\n",
       "</table>\n",
       "</div>"
      ],
      "text/plain": [
       "   orderID  CustomerID    Product  Price  QuantitPricey  OrderDate\n",
       "0      110           1     laptop    800              1 2024-01-10\n",
       "1      102           2      phone    500              2 2024-01-15\n",
       "2      103           3     tablet    300              1 2024-01-20\n",
       "3      104           4  headphone    100              3 2024-01-22\n",
       "4      105           2     laptop    750              1 2024-01-25\n",
       "5      106           1      phone    550              1 2024-01-30\n",
       "6      107           5     taplet    280              2 2024-02-01"
      ]
     },
     "execution_count": 27,
     "metadata": {},
     "output_type": "execute_result"
    }
   ],
   "source": [
    "order=pd.read_excel(r\"C:\\Users\\Lenovo\\OneDrive\\Documents\\orders.csv.xlsx\")\n",
    "order"
   ]
  },
  {
   "cell_type": "code",
   "execution_count": 15,
   "id": "60a86a6f-57e8-4515-9fe0-4365c8454b7e",
   "metadata": {},
   "outputs": [
    {
     "data": {
      "text/html": [
       "<div>\n",
       "<style scoped>\n",
       "    .dataframe tbody tr th:only-of-type {\n",
       "        vertical-align: middle;\n",
       "    }\n",
       "\n",
       "    .dataframe tbody tr th {\n",
       "        vertical-align: top;\n",
       "    }\n",
       "\n",
       "    .dataframe thead th {\n",
       "        text-align: right;\n",
       "    }\n",
       "</style>\n",
       "<table border=\"1\" class=\"dataframe\">\n",
       "  <thead>\n",
       "    <tr style=\"text-align: right;\">\n",
       "      <th></th>\n",
       "      <th>CustomerID</th>\n",
       "      <th>Name</th>\n",
       "      <th>age</th>\n",
       "      <th>location</th>\n",
       "      <th>totalspent</th>\n",
       "    </tr>\n",
       "  </thead>\n",
       "  <tbody>\n",
       "    <tr>\n",
       "      <th>0</th>\n",
       "      <td>1</td>\n",
       "      <td>alice</td>\n",
       "      <td>30</td>\n",
       "      <td>new york</td>\n",
       "      <td>1350</td>\n",
       "    </tr>\n",
       "    <tr>\n",
       "      <th>1</th>\n",
       "      <td>2</td>\n",
       "      <td>bob</td>\n",
       "      <td>25</td>\n",
       "      <td>los angeles</td>\n",
       "      <td>1250</td>\n",
       "    </tr>\n",
       "    <tr>\n",
       "      <th>2</th>\n",
       "      <td>3</td>\n",
       "      <td>charlie</td>\n",
       "      <td>35</td>\n",
       "      <td>chicago</td>\n",
       "      <td>300</td>\n",
       "    </tr>\n",
       "    <tr>\n",
       "      <th>3</th>\n",
       "      <td>4</td>\n",
       "      <td>david</td>\n",
       "      <td>40</td>\n",
       "      <td>houston</td>\n",
       "      <td>300</td>\n",
       "    </tr>\n",
       "    <tr>\n",
       "      <th>4</th>\n",
       "      <td>5</td>\n",
       "      <td>eva</td>\n",
       "      <td>28</td>\n",
       "      <td>francisco</td>\n",
       "      <td>560</td>\n",
       "    </tr>\n",
       "  </tbody>\n",
       "</table>\n",
       "</div>"
      ],
      "text/plain": [
       "   CustomerID     Name  age     location  totalspent\n",
       "0           1    alice   30     new york        1350\n",
       "1           2      bob   25  los angeles        1250\n",
       "2           3  charlie   35      chicago         300\n",
       "3           4    david   40      houston         300\n",
       "4           5      eva   28    francisco         560"
      ]
     },
     "execution_count": 15,
     "metadata": {},
     "output_type": "execute_result"
    }
   ],
   "source": [
    "cust=pd.read_excel(r\"C:\\Users\\Lenovo\\OneDrive\\Documents\\customer.csv.xlsx\")\n",
    "cust"
   ]
  },
  {
   "cell_type": "code",
   "execution_count": 29,
   "id": "a575b9d4-72c1-4964-bf6e-2b8c97249b56",
   "metadata": {},
   "outputs": [
    {
     "data": {
      "text/html": [
       "<div>\n",
       "<style scoped>\n",
       "    .dataframe tbody tr th:only-of-type {\n",
       "        vertical-align: middle;\n",
       "    }\n",
       "\n",
       "    .dataframe tbody tr th {\n",
       "        vertical-align: top;\n",
       "    }\n",
       "\n",
       "    .dataframe thead th {\n",
       "        text-align: right;\n",
       "    }\n",
       "</style>\n",
       "<table border=\"1\" class=\"dataframe\">\n",
       "  <thead>\n",
       "    <tr style=\"text-align: right;\">\n",
       "      <th></th>\n",
       "      <th>orderID</th>\n",
       "      <th>CustomerID</th>\n",
       "      <th>Product</th>\n",
       "      <th>Price</th>\n",
       "      <th>QuantitPricey</th>\n",
       "      <th>OrderDate</th>\n",
       "      <th>Name</th>\n",
       "      <th>age</th>\n",
       "      <th>location</th>\n",
       "      <th>totalspent</th>\n",
       "    </tr>\n",
       "  </thead>\n",
       "  <tbody>\n",
       "    <tr>\n",
       "      <th>0</th>\n",
       "      <td>110</td>\n",
       "      <td>1</td>\n",
       "      <td>laptop</td>\n",
       "      <td>800</td>\n",
       "      <td>1</td>\n",
       "      <td>2024-01-10</td>\n",
       "      <td>alice</td>\n",
       "      <td>30</td>\n",
       "      <td>new york</td>\n",
       "      <td>1350</td>\n",
       "    </tr>\n",
       "    <tr>\n",
       "      <th>1</th>\n",
       "      <td>102</td>\n",
       "      <td>2</td>\n",
       "      <td>phone</td>\n",
       "      <td>500</td>\n",
       "      <td>2</td>\n",
       "      <td>2024-01-15</td>\n",
       "      <td>bob</td>\n",
       "      <td>25</td>\n",
       "      <td>los angeles</td>\n",
       "      <td>1250</td>\n",
       "    </tr>\n",
       "    <tr>\n",
       "      <th>2</th>\n",
       "      <td>103</td>\n",
       "      <td>3</td>\n",
       "      <td>tablet</td>\n",
       "      <td>300</td>\n",
       "      <td>1</td>\n",
       "      <td>2024-01-20</td>\n",
       "      <td>charlie</td>\n",
       "      <td>35</td>\n",
       "      <td>chicago</td>\n",
       "      <td>300</td>\n",
       "    </tr>\n",
       "    <tr>\n",
       "      <th>3</th>\n",
       "      <td>104</td>\n",
       "      <td>4</td>\n",
       "      <td>headphone</td>\n",
       "      <td>100</td>\n",
       "      <td>3</td>\n",
       "      <td>2024-01-22</td>\n",
       "      <td>david</td>\n",
       "      <td>40</td>\n",
       "      <td>houston</td>\n",
       "      <td>300</td>\n",
       "    </tr>\n",
       "    <tr>\n",
       "      <th>4</th>\n",
       "      <td>105</td>\n",
       "      <td>2</td>\n",
       "      <td>laptop</td>\n",
       "      <td>750</td>\n",
       "      <td>1</td>\n",
       "      <td>2024-01-25</td>\n",
       "      <td>bob</td>\n",
       "      <td>25</td>\n",
       "      <td>los angeles</td>\n",
       "      <td>1250</td>\n",
       "    </tr>\n",
       "    <tr>\n",
       "      <th>5</th>\n",
       "      <td>106</td>\n",
       "      <td>1</td>\n",
       "      <td>phone</td>\n",
       "      <td>550</td>\n",
       "      <td>1</td>\n",
       "      <td>2024-01-30</td>\n",
       "      <td>alice</td>\n",
       "      <td>30</td>\n",
       "      <td>new york</td>\n",
       "      <td>1350</td>\n",
       "    </tr>\n",
       "    <tr>\n",
       "      <th>6</th>\n",
       "      <td>107</td>\n",
       "      <td>5</td>\n",
       "      <td>taplet</td>\n",
       "      <td>280</td>\n",
       "      <td>2</td>\n",
       "      <td>2024-02-01</td>\n",
       "      <td>eva</td>\n",
       "      <td>28</td>\n",
       "      <td>francisco</td>\n",
       "      <td>560</td>\n",
       "    </tr>\n",
       "  </tbody>\n",
       "</table>\n",
       "</div>"
      ],
      "text/plain": [
       "   orderID  CustomerID    Product  Price  QuantitPricey  OrderDate     Name  \\\n",
       "0      110           1     laptop    800              1 2024-01-10    alice   \n",
       "1      102           2      phone    500              2 2024-01-15      bob   \n",
       "2      103           3     tablet    300              1 2024-01-20  charlie   \n",
       "3      104           4  headphone    100              3 2024-01-22    david   \n",
       "4      105           2     laptop    750              1 2024-01-25      bob   \n",
       "5      106           1      phone    550              1 2024-01-30    alice   \n",
       "6      107           5     taplet    280              2 2024-02-01      eva   \n",
       "\n",
       "   age     location  totalspent  \n",
       "0   30     new york        1350  \n",
       "1   25  los angeles        1250  \n",
       "2   35      chicago         300  \n",
       "3   40      houston         300  \n",
       "4   25  los angeles        1250  \n",
       "5   30     new york        1350  \n",
       "6   28    francisco         560  "
      ]
     },
     "execution_count": 29,
     "metadata": {},
     "output_type": "execute_result"
    }
   ],
   "source": [
    "inner=pd.merge(order,cust,how='inner',on='CustomerID')\n",
    "inner"
   ]
  },
  {
   "cell_type": "code",
   "execution_count": 31,
   "id": "c35085eb-a068-424a-bca1-63adec96d52b",
   "metadata": {},
   "outputs": [],
   "source": [
    "inner['totalPrice']=[3000,4000,3000,6000,4000,6000,8000]"
   ]
  },
  {
   "cell_type": "code",
   "execution_count": 37,
   "id": "ab0f5e1e-48d5-481e-93f9-ef2669a48450",
   "metadata": {},
   "outputs": [],
   "source": [
    "inner[\"totalPrice\"] = inner[\"Price\"] * inner[\"QuantitPricey\"]"
   ]
  },
  {
   "cell_type": "code",
   "execution_count": 39,
   "id": "f0eacec3-175c-4465-b34e-da6e66ed184c",
   "metadata": {},
   "outputs": [
    {
     "ename": "AttributeError",
     "evalue": "module 'matplotlib' has no attribute 'xlabel'",
     "output_type": "error",
     "traceback": [
      "\u001b[1;31m---------------------------------------------------------------------------\u001b[0m",
      "\u001b[1;31mAttributeError\u001b[0m                            Traceback (most recent call last)",
      "Cell \u001b[1;32mIn[39], line 5\u001b[0m\n\u001b[0;32m      3\u001b[0m plt\u001b[38;5;241m.\u001b[39mfigsize\u001b[38;5;241m=\u001b[39m(\u001b[38;5;241m8\u001b[39m,\u001b[38;5;241m5\u001b[39m)\n\u001b[0;32m      4\u001b[0m ProductSales\u001b[38;5;241m.\u001b[39mplot(kind\u001b[38;5;241m=\u001b[39m\u001b[38;5;124m\"\u001b[39m\u001b[38;5;124mbar\u001b[39m\u001b[38;5;124m\"\u001b[39m, color\u001b[38;5;241m=\u001b[39m\u001b[38;5;124m\"\u001b[39m\u001b[38;5;124mblue\u001b[39m\u001b[38;5;124m\"\u001b[39m, edgecolor\u001b[38;5;241m=\u001b[39m\u001b[38;5;124m\"\u001b[39m\u001b[38;5;124mblack\u001b[39m\u001b[38;5;124m\"\u001b[39m)\n\u001b[1;32m----> 5\u001b[0m plt\u001b[38;5;241m.\u001b[39mxlabel(\u001b[38;5;124m\"\u001b[39m\u001b[38;5;124mProduct\u001b[39m\u001b[38;5;124m\"\u001b[39m)\n\u001b[0;32m      6\u001b[0m plt\u001b[38;5;241m.\u001b[39mylabel(\u001b[38;5;124m\"\u001b[39m\u001b[38;5;124mTotal Sales\u001b[39m\u001b[38;5;124m\"\u001b[39m)\n\u001b[0;32m      7\u001b[0m plt\u001b[38;5;241m.\u001b[39mxticks(rotation\u001b[38;5;241m=\u001b[39m\u001b[38;5;241m45\u001b[39m)\n",
      "File \u001b[1;32m~\\anaconda3\\Lib\\site-packages\\matplotlib\\_api\\__init__.py:217\u001b[0m, in \u001b[0;36mcaching_module_getattr.<locals>.__getattr__\u001b[1;34m(name)\u001b[0m\n\u001b[0;32m    215\u001b[0m \u001b[38;5;28;01mif\u001b[39;00m name \u001b[38;5;129;01min\u001b[39;00m props:\n\u001b[0;32m    216\u001b[0m     \u001b[38;5;28;01mreturn\u001b[39;00m props[name]\u001b[38;5;241m.\u001b[39m\u001b[38;5;21m__get__\u001b[39m(instance)\n\u001b[1;32m--> 217\u001b[0m \u001b[38;5;28;01mraise\u001b[39;00m \u001b[38;5;167;01mAttributeError\u001b[39;00m(\n\u001b[0;32m    218\u001b[0m     \u001b[38;5;124mf\u001b[39m\u001b[38;5;124m\"\u001b[39m\u001b[38;5;124mmodule \u001b[39m\u001b[38;5;132;01m{\u001b[39;00m\u001b[38;5;28mcls\u001b[39m\u001b[38;5;241m.\u001b[39m\u001b[38;5;18m__module__\u001b[39m\u001b[38;5;132;01m!r}\u001b[39;00m\u001b[38;5;124m has no attribute \u001b[39m\u001b[38;5;132;01m{\u001b[39;00mname\u001b[38;5;132;01m!r}\u001b[39;00m\u001b[38;5;124m\"\u001b[39m)\n",
      "\u001b[1;31mAttributeError\u001b[0m: module 'matplotlib' has no attribute 'xlabel'"
     ]
    },
    {
     "data": {
      "image/png": "[encoded data removed]",
      "text/plain": [
       "<Figure size 640x480 with 1 Axes>"
      ]
     },
     "metadata": {},
     "output_type": "display_data"
    }
   ],
   "source": [
    "import matplotlib as plt\n",
    "ProductSales=inner.groupby(\"Product\")[\"totalPrice\"].sum()\n",
    "plt.figsize=(8,5)\n",
    "ProductSales.plot(kind=\"bar\", color=\"blue\", edgecolor=\"black\")\n",
    "plt.xlabel(\"Product\")\n",
    "plt.ylabel(\"Total Sales\")\n",
    "plt.xticks(rotation=45)\n",
    "plt.grid(axis=\"y\", linestyle=\"--\", alpha=0.7)\n",
    "plt.show()"
   ]
  },
  {
   "cell_type": "code",
   "execution_count": 41,
   "id": "422f7973-dbc0-45f7-9c8c-e66aa5bcafa4",
   "metadata": {},
   "outputs": [
    {
     "ename": "AttributeError",
     "evalue": "module 'matplotlib' has no attribute 'title'",
     "output_type": "error",
     "traceback": [
      "\u001b[1;31m---------------------------------------------------------------------------\u001b[0m",
      "\u001b[1;31mAttributeError\u001b[0m                            Traceback (most recent call last)",
      "Cell \u001b[1;32mIn[41], line 3\u001b[0m\n\u001b[0;32m      1\u001b[0m sales_trend \u001b[38;5;241m=\u001b[39m inner\u001b[38;5;241m.\u001b[39mgroupby(\u001b[38;5;124m\"\u001b[39m\u001b[38;5;124mOrderDate\u001b[39m\u001b[38;5;124m\"\u001b[39m)[\u001b[38;5;124m\"\u001b[39m\u001b[38;5;124mtotalPrice\u001b[39m\u001b[38;5;124m\"\u001b[39m]\u001b[38;5;241m.\u001b[39msum()\n\u001b[0;32m      2\u001b[0m sales_trend\u001b[38;5;241m.\u001b[39mplot(marker\u001b[38;5;241m=\u001b[39m\u001b[38;5;124m\"\u001b[39m\u001b[38;5;124mo\u001b[39m\u001b[38;5;124m\"\u001b[39m, linestyle\u001b[38;5;241m=\u001b[39m\u001b[38;5;124m\"\u001b[39m\u001b[38;5;124m-\u001b[39m\u001b[38;5;124m\"\u001b[39m, color\u001b[38;5;241m=\u001b[39m\u001b[38;5;124m\"\u001b[39m\u001b[38;5;124mdarkblue\u001b[39m\u001b[38;5;124m\"\u001b[39m)\n\u001b[1;32m----> 3\u001b[0m plt\u001b[38;5;241m.\u001b[39mtitle(\u001b[38;5;124m\"\u001b[39m\u001b[38;5;124mSales Trend Over Time\u001b[39m\u001b[38;5;124m\"\u001b[39m)\n\u001b[0;32m      4\u001b[0m plt\u001b[38;5;241m.\u001b[39mxlabel(\u001b[38;5;124m\"\u001b[39m\u001b[38;5;124mDate\u001b[39m\u001b[38;5;124m\"\u001b[39m)\n\u001b[0;32m      5\u001b[0m plt\u001b[38;5;241m.\u001b[39mylabel(\u001b[38;5;124m\"\u001b[39m\u001b[38;5;124mTotal Sales ($)\u001b[39m\u001b[38;5;124m\"\u001b[39m)\n",
      "File \u001b[1;32m~\\anaconda3\\Lib\\site-packages\\matplotlib\\_api\\__init__.py:217\u001b[0m, in \u001b[0;36mcaching_module_getattr.<locals>.__getattr__\u001b[1;34m(name)\u001b[0m\n\u001b[0;32m    215\u001b[0m \u001b[38;5;28;01mif\u001b[39;00m name \u001b[38;5;129;01min\u001b[39;00m props:\n\u001b[0;32m    216\u001b[0m     \u001b[38;5;28;01mreturn\u001b[39;00m props[name]\u001b[38;5;241m.\u001b[39m\u001b[38;5;21m__get__\u001b[39m(instance)\n\u001b[1;32m--> 217\u001b[0m \u001b[38;5;28;01mraise\u001b[39;00m \u001b[38;5;167;01mAttributeError\u001b[39;00m(\n\u001b[0;32m    218\u001b[0m     \u001b[38;5;124mf\u001b[39m\u001b[38;5;124m\"\u001b[39m\u001b[38;5;124mmodule \u001b[39m\u001b[38;5;132;01m{\u001b[39;00m\u001b[38;5;28mcls\u001b[39m\u001b[38;5;241m.\u001b[39m\u001b[38;5;18m__module__\u001b[39m\u001b[38;5;132;01m!r}\u001b[39;00m\u001b[38;5;124m has no attribute \u001b[39m\u001b[38;5;132;01m{\u001b[39;00mname\u001b[38;5;132;01m!r}\u001b[39;00m\u001b[38;5;124m\"\u001b[39m)\n",
      "\u001b[1;31mAttributeError\u001b[0m: module 'matplotlib' has no attribute 'title'"
     ]
    },
    {
     "data": {
      "image/png": "[encoded data removed]",
      "text/plain": [
       "<Figure size 640x480 with 1 Axes>"
      ]
     },
     "metadata": {},
     "output_type": "display_data"
    }
   ],
   "source": [
    "sales_trend = inner.groupby(\"OrderDate\")[\"totalPrice\"].sum()\n",
    "sales_trend.plot(marker=\"o\", linestyle=\"-\", color=\"darkblue\")\n",
    "plt.title(\"Sales Trend Over Time\")\n",
    "plt.xlabel(\"Date\")\n",
    "plt.ylabel(\"Total Sales ($)\")\n",
    "plt.grid(True, linestyle=\"--\", alpha=0.7)\n",
    "plt.xticks(rotation=45)\n",
    "plt.show()"
   ]
  },
  {
   "cell_type": "code",
   "execution_count": 49,
   "id": "cc016fc6-a75f-4226-969b-1ff13dea4bff",
   "metadata": {},
   "outputs": [
    {
     "data": {
      "image/png": "[encoded data removed]",
      "text/plain": [
       "<Figure size 800x500 with 1 Axes>"
      ]
     },
     "metadata": {},
     "output_type": "display_data"
    }
   ],
   "source": [
    "import matplotlib.pyplot as plt\n",
    "plt.figure(figsize=(8, 5))\n",
    "plt.scatter(cust[\"age\"], cust[\"totalspent\"], color=\"blue\", alpha=0.7, edgecolors=\"black\")\n",
    "plt.title(\"Customer Age vs Total Spent\")\n",
    "plt.xlabel(\"Age\")\n",
    "plt.ylabel(\"Total Spent ($)\")\n",
    "plt.grid(True, linestyle=\"--\", alpha=0.7)\n",
    "plt.show()"
   ]
  },
  {
   "cell_type": "code",
   "execution_count": 7,
   "id": "3e0d081b-3e64-4997-894b-bb25b5ceb934",
   "metadata": {},
   "outputs": [
    {
     "name": "stdout",
     "output_type": "stream",
     "text": [
      "First 5 records:\n",
      "   Employee ID     Name  Age Department  Salary\n",
      "0          101    Alice   25         HR   50000\n",
      "1          102      Bob   30         IT   60000\n",
      "2          103  Charlie   35    Finance   70000\n",
      "3          104    David   40  Marketing   80000\n",
      "4          105      Eva   45         IT   90000\n"
     ]
    }
   ],
   "source": [
    "import pandas as pd\n",
    "data = {\n",
    "    'Employee ID': [101, 102, 103, 104, 105],\n",
    "    'Name': ['Alice', 'Bob', 'Charlie', 'David', 'Eva'],\n",
    "    'Age': [25, 30, 35, 40, 45],\n",
    "    'Department': ['HR', 'IT', 'Finance', 'Marketing', 'IT'],\n",
    "    'Salary': [50000, 60000, 70000, 80000, 90000]\n",
    "}\n",
    "df = pd.DataFrame(data)\n",
    "print(\"First 5 records:\")\n",
    "print(df.head())\n",
    "\n",
    "\n"
   ]
  },
  {
   "cell_type": "code",
   "execution_count": 9,
   "id": "253b46d9-3965-484d-ab3f-422df322cf1d",
   "metadata": {},
   "outputs": [
    {
     "name": "stdout",
     "output_type": "stream",
     "text": [
      "\n",
      "Dataset information:\n",
      "<class 'pandas.core.frame.DataFrame'>\n",
      "RangeIndex: 5 entries, 0 to 4\n",
      "Data columns (total 5 columns):\n",
      " #   Column       Non-Null Count  Dtype \n",
      "---  ------       --------------  ----- \n",
      " 0   Employee ID  5 non-null      int64 \n",
      " 1   Name         5 non-null      object\n",
      " 2   Age          5 non-null      int64 \n",
      " 3   Department   5 non-null      object\n",
      " 4   Salary       5 non-null      int64 \n",
      "dtypes: int64(3), object(2)\n",
      "memory usage: 332.0+ bytes\n",
      "None\n"
     ]
    }
   ],
   "source": [
    "print(\"\\nDataset information:\")\n",
    "print(df.info())\n"
   ]
  },
  {
   "cell_type": "code",
   "execution_count": 11,
   "id": "cc131eec-4430-43da-bdd8-54813f329aef",
   "metadata": {},
   "outputs": [
    {
     "name": "stdout",
     "output_type": "stream",
     "text": [
      "\n",
      "Summary statistics:\n",
      "       Employee ID        Age        Salary\n",
      "count     5.000000   5.000000      5.000000\n",
      "mean    103.000000  35.000000  70000.000000\n",
      "std       1.581139   7.905694  15811.388301\n",
      "min     101.000000  25.000000  50000.000000\n",
      "25%     102.000000  30.000000  60000.000000\n",
      "50%     103.000000  35.000000  70000.000000\n",
      "75%     104.000000  40.000000  80000.000000\n",
      "max     105.000000  45.000000  90000.000000\n"
     ]
    }
   ],
   "source": [
    "print(\"\\nSummary statistics:\")\n",
    "print(df.describe())"
   ]
  },
  {
   "cell_type": "code",
   "execution_count": 21,
   "id": "dd1fb6c8-47f7-4a06-8892-c01bedd71e13",
   "metadata": {},
   "outputs": [
    {
     "name": "stdout",
     "output_type": "stream",
     "text": [
      "Missing values in each column:\n",
      "S.no             0\n",
      "Tiktoker name    0\n",
      "Tiktok name      1\n",
      "Subscribers      0\n",
      "Views avg.       0\n",
      "Likes avg.       0\n",
      "Comments avg.    0\n",
      "Shares avg.      0\n",
      "dtype: int64\n",
      "\n",
      "Number of unique values in each column:\n",
      "S.no             1000\n",
      "Tiktoker name     996\n",
      "Tiktok name       992\n",
      "Subscribers       427\n",
      "Views avg.        143\n",
      "Likes avg.        883\n",
      "Comments avg.     317\n",
      "Shares avg.       384\n",
      "dtype: int64\n"
     ]
    }
   ],
   "source": [
    "import pandas as pd\n",
    "\n",
    "df = pd.read_csv(r\"C:\\Users\\Lenovo\\Downloads\\social media influencers - Tiktok sep 2022.csv\") \n",
    "print(\"Missing values in each column:\")\n",
    "print(df.isnull().sum())\n",
    "print(\"\\nNumber of unique values in each column:\")\n",
    "print(df.nunique())\n"
   ]
  },
  {
   "cell_type": "code",
   "execution_count": 23,
   "id": "3eb8ab9a-b1f5-4cc9-be0c-aa5be5751c79",
   "metadata": {},
   "outputs": [],
   "source": [
    "df.to_csv('cleaned_example.csv', index=False)"
   ]
  },
  {
   "cell_type": "code",
   "execution_count": null,
   "id": "ff7340ff-f205-48f5-aa43-0d74ea7fd57e",
   "metadata": {},
   "outputs": [],
   "source": []
  }
 ],
 "metadata": {
  "kernelspec": {
   "display_name": "Python [conda env:base] *",
   "language": "python",
   "name": "conda-base-py"
  },
  "language_info": {
   "codemirror_mode": {
    "name": "ipython",
    "version": 3
   },
   "file_extension": ".py",
   "mimetype": "text/x-python",
   "name": "python",
   "nbconvert_exporter": "python",
   "pygments_lexer": "ipython3",
   "version": "3.12.7"
  }
 },
 "nbformat": 4,
 "nbformat_minor": 5
}
